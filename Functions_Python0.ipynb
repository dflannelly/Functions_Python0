{
  "nbformat": 4,
  "nbformat_minor": 0,
  "metadata": {
    "colab": {
      "provenance": [],
      "authorship_tag": "ABX9TyNcyLh/qoh1Bbkt5f9G9cK5",
      "include_colab_link": true
    },
    "kernelspec": {
      "name": "python3",
      "display_name": "Python 3"
    },
    "language_info": {
      "name": "python"
    }
  },
  "cells": [
    {
      "cell_type": "markdown",
      "metadata": {
        "id": "view-in-github",
        "colab_type": "text"
      },
      "source": [
        "<a href=\"https://colab.research.google.com/github/dflannelly/Functions_Python0/blob/main/Functions_Python0.ipynb\" target=\"_parent\"><img src=\"https://colab.research.google.com/assets/colab-badge.svg\" alt=\"Open In Colab\"/></a>"
      ]
    },
    {
      "cell_type": "markdown",
      "source": [
        "#Assignment 0: Functions\n",
        "In this assignment, you’ll learn how to define and use functions in Python. Functions group together a sequence of instructions that can be run whenever we want. You’ll practice creating functions with parameters, calling functions, and using return values to send information from one function to another.\n",
        "\n",
        "**Key Vocabulary**\n",
        "\n",
        "**Function**: A named group of programming instructions that can be run when called.\n",
        "\n",
        "**Parameter**: An input variable for a function.\n",
        "\n",
        "**Argument**: The actual value given to a function parameter when calling it.\n",
        "\n",
        "**Calling a function**: Running the function’s code by using its name and providing arguments.\n",
        "\n",
        "**Return value**: The output a function sends back to the part of the program that called it.\n",
        "\n",
        "**Function body**: The indented code inside a function that defines what the function does."
      ],
      "metadata": {
        "id": "6DiDw6COfNne"
      }
    },
    {
      "cell_type": "markdown",
      "source": [
        "#Activities\n",
        "##Example 1: Define and Call a Function\n",
        "Example:\n",
        "\n",
        "\n",
        "```\n",
        "def greet(name):\n",
        "    print(\"Hello, \" + name + \"!\")\n",
        "    \n",
        "greet(\"Alice\")\n",
        "```\n",
        "The function greet takes a parameter name and prints a greeting.\n",
        "\n",
        "Calling greet(\"Alice\") runs the code inside the function.\n",
        "\n"
      ],
      "metadata": {
        "id": "XSmNKUYGftK0"
      }
    },
    {
      "cell_type": "markdown",
      "source": [
        "##DO\n",
        "Your Task:\n",
        "Define a function say_hello that takes a name parameter and prints \"Hi, [name]!\". Call it with at least two different names.\n"
      ],
      "metadata": {
        "id": "1eO4Wk2-gCiZ"
      }
    },
    {
      "cell_type": "code",
      "execution_count": null,
      "metadata": {
        "id": "ZWEJT5onfMXg"
      },
      "outputs": [],
      "source": [
        "#Write your say hello function here"
      ]
    },
    {
      "cell_type": "markdown",
      "source": [
        "#Example 2: Functions with Multiple Parameters\n",
        "Example\n",
        "\n",
        "\n",
        "```\n",
        "def add_numbers(a, b):\n",
        "    return a + b\n",
        "\n",
        "result = add_numbers(3, 5)\n",
        "print(result)\n",
        "```\n",
        "The function add_numbers has two parameters and returns their sum.\n",
        "\n",
        "The returned value can be saved in a variable (result) and used later.\n",
        "\n",
        "\n"
      ],
      "metadata": {
        "id": "GWSeIm4QgLDM"
      }
    },
    {
      "cell_type": "markdown",
      "source": [
        "#Do\n",
        "Your Task:\n",
        "Define a function multiply_numbers that takes two parameters, multiplies them, and returns the result. Call it with different values and print the results.\n"
      ],
      "metadata": {
        "id": "M-2h5FjkgfMD"
      }
    },
    {
      "cell_type": "code",
      "source": [
        "#Write the code for multipy_numbers here"
      ],
      "metadata": {
        "id": "E3JMQg-_ghUb"
      },
      "execution_count": null,
      "outputs": []
    },
    {
      "cell_type": "markdown",
      "source": [
        "##Example 3: Functions Calling Other Functions\n",
        "\n",
        "\n",
        "\n",
        "```\n",
        "def square(x):\n",
        "    return x * x\n",
        "\n",
        "def sum_of_squares(a, b):\n",
        "    return square(a) + square(b)\n",
        "\n",
        "print(sum_of_squares(2, 3))\n",
        "```\n",
        "\n",
        "sum_of_squares calls the square function for each argument.\n"
      ],
      "metadata": {
        "id": "74pNzMZhgocd"
      }
    },
    {
      "cell_type": "markdown",
      "source": [
        "##Do\n",
        "Your Task:\n",
        "Define a function cube(x) that returns x ** 3. Then define a function sum_of_cubes(a, b) that calls cube on both inputs and returns their sum. Test your functions."
      ],
      "metadata": {
        "id": "qZ06yHkjg8uf"
      }
    },
    {
      "cell_type": "code",
      "source": [
        "#Write cube(x) function here"
      ],
      "metadata": {
        "id": "oQ8lntlfg2l8"
      },
      "execution_count": null,
      "outputs": []
    },
    {
      "cell_type": "markdown",
      "source": [
        "##Do\n",
        "Make your own original function. It must have at least 2 parameters."
      ],
      "metadata": {
        "id": "LpQC3BShhUxG"
      }
    },
    {
      "cell_type": "code",
      "source": [
        "#Your original function gets written here."
      ],
      "metadata": {
        "id": "XVYYS6swhdi5"
      },
      "execution_count": null,
      "outputs": []
    }
  ]
}